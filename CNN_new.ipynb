{
  "nbformat": 4,
  "nbformat_minor": 0,
  "metadata": {
    "colab": {
      "name": "Copy of CNN_model.ipynb",
      "version": "0.3.2",
      "provenance": [],
      "collapsed_sections": [],
      "include_colab_link": true
    },
    "kernelspec": {
      "name": "python3",
      "display_name": "Python 3"
    },
    "accelerator": "TPU"
  },
  "cells": [
    {
      "cell_type": "markdown",
      "metadata": {
        "id": "view-in-github",
        "colab_type": "text"
      },
      "source": [
        "<a href=\"https://colab.research.google.com/github/SilasRu/Oeko3/blob/master/CNN_new.ipynb\" target=\"_parent\"><img src=\"https://colab.research.google.com/assets/colab-badge.svg\" alt=\"Open In Colab\"/></a>"
      ]
    },
    {
      "cell_type": "code",
      "metadata": {
        "id": "NktsVmfFOXGY",
        "colab_type": "code",
        "outputId": "298cfbe4-7fb5-4942-eb41-00736bcb8777",
        "colab": {
          "base_uri": "https://localhost:8080/",
          "height": 153
        }
      },
      "source": [
        "!git clone https://github.com/SilasRu/Oeko3.git"
      ],
      "execution_count": 1,
      "outputs": [
        {
          "output_type": "stream",
          "text": [
            "Cloning into 'Oeko3'...\n",
            "remote: Enumerating objects: 349, done.\u001b[K\n",
            "remote: Counting objects: 100% (349/349), done.\u001b[K\n",
            "remote: Compressing objects: 100% (335/335), done.\u001b[K\n",
            "remote: Total 22883 (delta 26), reused 324 (delta 12), pack-reused 22534\u001b[K\n",
            "Receiving objects: 100% (22883/22883), 1.26 GiB | 6.77 MiB/s, done.\n",
            "Resolving deltas: 100% (713/713), done.\n",
            "Checking out files: 100% (20045/20045), done.\n"
          ],
          "name": "stdout"
        }
      ]
    },
    {
      "cell_type": "markdown",
      "metadata": {
        "id": "zy-TZeifJcVr",
        "colab_type": "text"
      },
      "source": [
        "**Importing packages and path handling**"
      ]
    },
    {
      "cell_type": "code",
      "metadata": {
        "id": "5ME5HE0VjMiF",
        "colab_type": "code",
        "colab": {
          "base_uri": "https://localhost:8080/",
          "height": 34
        },
        "outputId": "9bada5e1-5a4e-4069-9225-d2913b7376bd"
      },
      "source": [
        "import os\n",
        "import numpy as np\n",
        "from keras.preprocessing.image import  ImageDataGenerator, array_to_img, img_to_array, load_img\n",
        "from keras.models import Sequential\n",
        "import keras.models as km\n",
        "import keras.layers as kl\n",
        "import matplotlib.pyplot as plt\n",
        "import keras\n",
        "import random\n",
        "\n",
        "from keras.models import Sequential\n",
        "from keras.layers import Dense, Conv2D, Flatten, MaxPooling2D, Activation, Dropout\n",
        "from keras.utils import to_categorical\n",
        "from sklearn.metrics import confusion_matrix, accuracy_score"
      ],
      "execution_count": 2,
      "outputs": [
        {
          "output_type": "stream",
          "text": [
            "Using TensorFlow backend.\n"
          ],
          "name": "stderr"
        }
      ]
    },
    {
      "cell_type": "code",
      "metadata": {
        "id": "TuY2eVCKkCMb",
        "colab_type": "code",
        "colab": {}
      },
      "source": [
        "import sys\n",
        "sys.path.append(\"[Oeko3\\\\data\\\\train\\\\spectrograms]\")\n",
        "path = os.path.join('Oeko3', 'data', 'train', 'spectrograms')\n",
        "persons = os.listdir(path)\n",
        "persons[-2], persons[-1] = persons[-1], persons[-2]\n",
        "\n",
        "sys.path.append(\"[Oeko3\\\\data\\\\test\\\\spectrograms]\")\n",
        "path_test = os.path.join('Oeko3', 'data', 'test', 'spectrograms')\n",
        "persons_test = os.listdir(path_test)\n",
        "\n",
        "sys.path.append(\"[Oeko3\\\\data\\\\test]\")\n",
        "speaker_list = os.path.join('Oeko3', 'data', 'test', 'speaker_list.csv')\n",
        "\n",
        "sys.path.append('Oeko3/src')\n",
        "import data_utils\n",
        "\n"
      ],
      "execution_count": 0,
      "outputs": []
    },
    {
      "cell_type": "markdown",
      "metadata": {
        "id": "-gezopmpJRhO",
        "colab_type": "text"
      },
      "source": [
        "**Converting train and test spectrograms to matrices**"
      ]
    },
    {
      "cell_type": "code",
      "metadata": {
        "id": "71rBkF3rkQuR",
        "colab_type": "code",
        "colab": {}
      },
      "source": [
        "def convert_train(size):\n",
        "  x_train = []\n",
        "  y_train = []\n",
        "  errors = 0\n",
        "  for i in range(size):\n",
        "      sample = random.randint(0,5)\n",
        "      tempdir = os.path.join(path, persons[sample])\n",
        "      tempfiles = os.listdir(tempdir)\n",
        "      amount = 0\n",
        "      while amount < 10:  \n",
        "          sample_img = random.sample(tempfiles, 1)\n",
        "          temp_img = load_img(os.path.join(tempdir,sample_img[0]))\n",
        "          temp_x = img_to_array(temp_img)/255.\n",
        "          if temp_x.shape== (480,640,3):\n",
        "            temp_x = temp_x.reshape((1,)+temp_x.shape)\n",
        "            if i ==0 and amount == 0:  \n",
        "                x_train = temp_x\n",
        "            else:\n",
        "              x_train = np.concatenate((x_train,temp_x),  axis = 0)\n",
        "            y_train.append(sample)\n",
        "            amount +=1\n",
        "          else:\n",
        "            errors += 1\n",
        "#             print(str(persons[i])+'__'+str(tempfiles[j]+'   INVALID SHAPE. CAN NOT ADD TO TRAINING SET'))\n",
        "  return x_train, y_train          "
      ],
      "execution_count": 0,
      "outputs": []
    },
    {
      "cell_type": "code",
      "metadata": {
        "id": "kJs3vbE1JN8T",
        "colab_type": "code",
        "colab": {}
      },
      "source": [
        "def convert_test(speaker_list, range_start, range_stop):\n",
        "  x_test = []\n",
        "  y_test = []\n",
        "  errors = 0\n",
        "  tempdir = path_test\n",
        "  tempfiles = sorted(persons_test)[range_start: range_stop]\n",
        "  \n",
        "  for index, img in enumerate(tempfiles):\n",
        "      temp_img = load_img(os.path.join(tempdir,img))\n",
        "      temp_x = img_to_array(temp_img)/255.\n",
        "      temp_x = temp_x.reshape((1,)+temp_x.shape)\n",
        "      \n",
        "      if index==0:\n",
        "          x_test = temp_x\n",
        "      else:\n",
        "        x_test = np.concatenate((x_test,temp_x),  axis = 0)     \n",
        "      converter = data_utils.Utils()\n",
        "      y_test = converter.create_y_test(speaker_list)[range_start: range_stop]\n",
        "  \n",
        "  return x_test, y_test"
      ],
      "execution_count": 0,
      "outputs": []
    },
    {
      "cell_type": "markdown",
      "metadata": {
        "id": "hko7k3fKJkXt",
        "colab_type": "text"
      },
      "source": [
        "**CNN build**"
      ]
    },
    {
      "cell_type": "code",
      "metadata": {
        "id": "RedVXj7cme4w",
        "colab_type": "code",
        "outputId": "f3bb02aa-6d82-4d97-b965-bf215273cd0e",
        "colab": {
          "base_uri": "https://localhost:8080/",
          "height": 88
        }
      },
      "source": [
        "#create model\n",
        "model = Sequential()\n",
        "#add model layers\n",
        "model.add(Conv2D(128,strides=3, kernel_size=3, activation=\"relu\",\n",
        "                 input_shape= (480, 640, 3)))\n",
        "model.add(MaxPooling2D())\n",
        "model.add(Conv2D(64,strides=3 ,kernel_size=3, activation=\"sigmoid\"))\n",
        "model.add(MaxPooling2D())\n",
        "model.add(Flatten())\n",
        "model.add(Dense(len(persons), activation=\"softmax\"))\n",
        "\n",
        "#compile model using accuracy to measure model performance\n",
        "model.compile(optimizer='adam', loss='categorical_crossentropy', metrics=['accuracy'])"
      ],
      "execution_count": 6,
      "outputs": [
        {
          "output_type": "stream",
          "text": [
            "WARNING:tensorflow:From /usr/local/lib/python3.6/dist-packages/tensorflow/python/framework/op_def_library.py:263: colocate_with (from tensorflow.python.framework.ops) is deprecated and will be removed in a future version.\n",
            "Instructions for updating:\n",
            "Colocations handled automatically by placer.\n"
          ],
          "name": "stdout"
        }
      ]
    },
    {
      "cell_type": "markdown",
      "metadata": {
        "id": "4-f6ivLiJsZs",
        "colab_type": "text"
      },
      "source": [
        "**Fitting the model on the training set**"
      ]
    },
    {
      "cell_type": "code",
      "metadata": {
        "id": "xBboXyW1mqoX",
        "colab_type": "code",
        "colab": {}
      },
      "source": [
        "episodes = 20\n",
        "for i in range(episodes):\n",
        "  x_train, y_train = convert_train(20)\n",
        "  y_cat = to_categorical(y_train, num_classes=6)\n",
        "  model.fit(x_train, y_train, validation_split = 0.2, epochs=20, shuffle=True)"
      ],
      "execution_count": 0,
      "outputs": []
    },
    {
      "cell_type": "code",
      "metadata": {
        "id": "43vg3FN-GWJE",
        "colab_type": "code",
        "colab": {}
      },
      "source": [
        "x_test, y_test = convert_test(speaker_list, 2200,2201) #2004 stop"
      ],
      "execution_count": 0,
      "outputs": []
    },
    {
      "cell_type": "code",
      "metadata": {
        "id": "swBxp5THJpx2",
        "colab_type": "code",
        "colab": {}
      },
      "source": [
        "for i in range(2201,2400,10):\n",
        "  x, y, = convert_test(speaker_list, i, i+10)\n",
        "  x_test = np.concatenate((x_test, x) , axis=0)\n",
        "  y_test.extend(y)"
      ],
      "execution_count": 0,
      "outputs": []
    },
    {
      "cell_type": "code",
      "metadata": {
        "id": "JMkHeaDXU1BU",
        "colab_type": "code",
        "colab": {}
      },
      "source": [
        "np.save('y_test12', y_test)\n",
        "np.save('x_test12', x_test)"
      ],
      "execution_count": 0,
      "outputs": []
    },
    {
      "cell_type": "code",
      "metadata": {
        "id": "xgFsOLuSKZDz",
        "colab_type": "code",
        "colab": {
          "base_uri": "https://localhost:8080/",
          "height": 34
        },
        "outputId": "03540d2c-c8d0-4d0f-9b59-6d4410014460"
      },
      "source": [
        "len(x_test)\n",
        "len(y_test)"
      ],
      "execution_count": 49,
      "outputs": [
        {
          "output_type": "execute_result",
          "data": {
            "text/plain": [
              "201"
            ]
          },
          "metadata": {
            "tags": []
          },
          "execution_count": 49
        }
      ]
    },
    {
      "cell_type": "markdown",
      "metadata": {
        "id": "wvkdAJMtJwp1",
        "colab_type": "text"
      },
      "source": [
        "**Prediction on the test set and confusion matrix**"
      ]
    },
    {
      "cell_type": "code",
      "metadata": {
        "id": "sDPlDZHDGUPh",
        "colab_type": "code",
        "outputId": "5b6724a5-7730-4540-8ca6-da10faac6d5d",
        "colab": {
          "base_uri": "https://localhost:8080/",
          "height": 102
        }
      },
      "source": [
        "prediction = model.predict_classes(x_test)\n",
        "print(confusion_matrix(y_test, prediction))\n",
        "print(accuracy_score(y_test, prediction))"
      ],
      "execution_count": 94,
      "outputs": [
        {
          "output_type": "stream",
          "text": [
            "[[ 10   0   0  97]\n",
            " [  0   0   0   0]\n",
            " [ 57  14   0 215]\n",
            " [ 38  17   0  52]]\n",
            "0.124\n"
          ],
          "name": "stdout"
        }
      ]
    },
    {
      "cell_type": "code",
      "metadata": {
        "id": "umnPOdXO0btt",
        "colab_type": "code",
        "colab": {
          "base_uri": "https://localhost:8080/",
          "height": 34
        },
        "outputId": "e1b49f66-3851-4c46-bbed-479fe6ff96ba"
      },
      "source": [
        "x_test.shape"
      ],
      "execution_count": 21,
      "outputs": [
        {
          "output_type": "execute_result",
          "data": {
            "text/plain": [
              "(1001, 480, 640, 3)"
            ]
          },
          "metadata": {
            "tags": []
          },
          "execution_count": 21
        }
      ]
    }
  ]
}